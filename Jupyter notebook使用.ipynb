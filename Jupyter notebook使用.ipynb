{
 "cells": [
  {
   "cell_type": "markdown",
   "metadata": {},
   "source": [
    "### Enter进入编辑模式，Esc退出编辑模式\n",
    "    a 插入cell above      b 插入cell blow\n",
    "    m 转成MarkDown格式    r 转成Raw NBconvert格式\n",
    "    dd 删除一行\n",
    "    j上移   k下移\n",
    "    Shift+Enter 执行，并移到下一行\n",
    "    Ctrl+Enter  执行，留在当前行\n",
    "    Tab可以提示\n",
    "    p 显示快捷键面板"
   ]
  },
  {
   "cell_type": "markdown",
   "metadata": {},
   "source": [
    "## markdown语法\n",
    "![markdown 语法](http://upload-images.jianshu.io/upload_images/8134750-f2a49575ac7e8553.png?imageMogr2/auto-orient/strip%7CimageView2/2/w/1240)"
   ]
  },
  {
   "cell_type": "markdown",
   "metadata": {},
   "source": [
    "## 魔法函数\n",
    "|魔法函数|\t作用|\n",
    "|:--|:--|\n",
    "|%%writefile|\t调用外部python脚本|\n",
    "|%run\t|调用外部python脚本|\n",
    "|%timeit\t|测试单行语句的执行时间|\n",
    "|%%timeit\t|测试整个单元中代码的执行时间|\n",
    "|% matplotlib inline\t|显示 matplotlib 包生成的图形|\n",
    "|%%writefile\t|写入文件|\n",
    "|%pdb\t|调试程序|\n",
    "|%pwd\t|查看当前工作目录|\n",
    "|%ls\t|查看目录文件列表|\n",
    "|%reset\t|清除全部变量|\n",
    "|%who\t|查看所有全局变量的名称，若给定类型参数，只返回该类型的变量列表|\n",
    "|%whos\t|显示所有的全局变量名称、类型、值/信息|\n",
    "|%xmode Plain\t|设置为当异常发生时只展示简单的异常信息|\n",
    "|%xmode Verbose\t|设置为当异常发生时展示详细的异常信息|\n",
    "|%debug\tbug|调试，输入quit退出调试|\n",
    "|%env\t|列出全部环境变量|"
   ]
  },
  {
   "cell_type": "markdown",
   "metadata": {},
   "source": [
    "## 其他\n",
    "\n",
    "    tab自动补全提示\n",
    "       在一个库、方法或变量前加上 ?，就可以获得它的一个快速语法说明\n",
    "    在一个库、方法或变量前加上 ?，就可以获得它的一个快速语法说明"
   ]
  }
 ],
 "metadata": {
  "kernelspec": {
   "display_name": "Python 2",
   "language": "python",
   "name": "python2"
  },
  "language_info": {
   "codemirror_mode": {
    "name": "ipython",
    "version": 2
   },
   "file_extension": ".py",
   "mimetype": "text/x-python",
   "name": "python",
   "nbconvert_exporter": "python",
   "pygments_lexer": "ipython2",
   "version": "2.7.13"
  }
 },
 "nbformat": 4,
 "nbformat_minor": 2
}
